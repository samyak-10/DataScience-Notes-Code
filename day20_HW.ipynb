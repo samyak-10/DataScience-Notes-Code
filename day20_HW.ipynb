{
 "cells": [
  {
   "cell_type": "markdown",
   "id": "e13b8286-8dc8-43dd-8016-af5ef11a9f18",
   "metadata": {},
   "source": [
    "# CONNECTING DATABASE TO GUI"
   ]
  },
  {
   "cell_type": "markdown",
   "id": "467c7f59-684a-4934-b1f9-6b5d85e30703",
   "metadata": {},
   "source": [
    "### IMPORTING REQUIRED THINGS"
   ]
  },
  {
   "cell_type": "code",
   "execution_count": 23,
   "id": "c8f616d2-11f0-4eaa-b3cf-a236552e7b2e",
   "metadata": {},
   "outputs": [],
   "source": [
    "import tkinter as tk\n",
    "from tkinter import messagebox\n",
    "import sqlite3"
   ]
  },
  {
   "cell_type": "markdown",
   "id": "f722f87d-3b28-4d23-9ebe-05ba5995e10b",
   "metadata": {},
   "source": [
    "### CREATING TABLE"
   ]
  },
  {
   "cell_type": "code",
   "execution_count": 39,
   "id": "f8c52a5e-3ff6-42eb-adef-88f82163999d",
   "metadata": {},
   "outputs": [],
   "source": [
    "conn = sqlite3.connect(\"students.db\")   \n",
    "cursor = conn.cursor()   #a cursor as a finger that helps you point at, read, or write information in a database                                              \n",
    "\n",
    "# Create \"students\" table if not exists\n",
    "cursor.execute(\"\"\"\n",
    "CREATE TABLE IF NOT EXISTS students (\n",
    "    id INTEGER PRIMARY KEY AUTOINCREMENT,\n",
    "    name TEXT NOT NULL,\n",
    "    age INTEGER NOT NULL,\n",
    "    course TEXT NOT NULL,\n",
    "    gender TEXT NOT NULL,\n",
    "    activity INTEGER NOT NULL\n",
    ")\n",
    "\"\"\")\n",
    "conn.commit()  #saves the data                            \n",
    "conn.close()  # close the connection"
   ]
  },
  {
   "cell_type": "markdown",
   "id": "337fa283-4284-4f2e-9c8a-3bd0bb156b5f",
   "metadata": {},
   "source": [
    "### GUI WINDOW"
   ]
  },
  {
   "cell_type": "code",
   "execution_count": null,
   "id": "64ad0274-e25f-4deb-b540-dc3f118cc531",
   "metadata": {},
   "outputs": [],
   "source": [
    "root = tk.Tk()    # creating the instance of Tk\n",
    "root.title(\"Student Registration\") # giving title to gui window\n",
    "root.geometry(\"400x400\")   #window size\n",
    "\n",
    "#NAME\n",
    "tk.Label(root, text=\"Name:\").pack(anchor=\"w\", padx=10)   # giving label\n",
    "name_entry = tk.Entry(root)            # taken input and store in 'name_entry'\n",
    "name_entry.pack(anchor=\"w\", padx=10)    #pack used to display data , anchor tell us where we put data llike w= west likewise\n",
    "\n",
    "# Age Entry\n",
    "tk.Label(root, text=\"Age:\").pack(anchor=\"w\", padx=10)\n",
    "age_entry = tk.Entry(root, width=30)\n",
    "age_entry.pack(anchor=\"w\", padx=10)\n",
    "\n",
    "# Dropdown Menu (Course Selection)\n",
    "course_var = tk.StringVar()                      #defining a variable with its type STringVAR\n",
    "tk.Label(root, text=\"Course:\").pack(anchor=\"w\", padx=10)  \n",
    "\n",
    "course_var.set(courses[0])         # default value will be course[0] which is Math\n",
    "courses = [\"Math\", \"Science\", \"Arts\", \"History\"]\n",
    "dropdown = tk.OptionMenu(root, course_var, *courses)  # course_var stores value to be displayed (default 'math') and *courses * divide course in se\n",
    "dropdown.pack(anchor=\"w\", padx=10)\n",
    "\n",
    "# Radio Buttons (Gender Selection)\n",
    "var = tk.StringVar(value=\"Male\")  # Default value also defining var datatype\n",
    "tk.Label(root, text=\"Gender:\").pack(anchor=\"w\", padx=10)\n",
    "tk.Radiobutton(root, text=\"Male\", variable=var, value=\"Male\").pack(anchor=\"w\", padx=15)\n",
    "tk.Radiobutton(root, text=\"Female\", variable=var, value=\"Female\").pack(anchor=\"w\", padx=15)\n",
    "\n",
    "# Checkbox (Extra Activities)\n",
    "activity_var = tk.IntVar()\n",
    "tk.Checkbutton(root,text=\"takepart in Extra Activities\",variable=activity_var).pack(anchor=\"w\",padx=10,pady=5)# variable=activity_var data going to db\n",
    "\n",
    "# Buttons\n",
    "tk.Button(root, text=\"Save Data\", command=save_data, width=15).pack(anchor=\"w\", padx=10, pady=5)\n",
    "tk.Button(root, text=\"Show Data\", command=show_data, width=15).pack(anchor=\"w\", padx=10, pady=5)\n",
    "\n",
    "# Listbox to Display Data\n",
    "tk.Label(root, text=\"Student Records:\").pack(anchor=\"w\", padx=10, pady=1)\n",
    "listbox = tk.Listbox(root, width=50, height=5)\n",
    "listbox.pack(anchor=\"w\", pady=15, padx=10)\n",
    "\n",
    "# Run the GUI\n",
    "root.mainloop()"
   ]
  },
  {
   "cell_type": "markdown",
   "id": "2c872f40-db0b-4b44-8ed5-11442c429aeb",
   "metadata": {},
   "source": [
    "### CONNECTION OF GUI AND DB || CODE TO SHOW DATA"
   ]
  },
  {
   "cell_type": "code",
   "execution_count": 55,
   "id": "bb77bf35-7698-45b1-aaaa-454d1f5c5fd4",
   "metadata": {},
   "outputs": [],
   "source": [
    "# Function to Save Data\n",
    "def save_data():                   \n",
    "    name = name_entry.get()\n",
    "    age = age_entry.get()\n",
    "    course = course_var.get()\n",
    "    gender = var.get()\n",
    "    activity = activity_var.get()  # where activity_var is variable name given while taking input from gui\n",
    "\n",
    "    if name and age.isdigit():  # Ensure name is entered and age is a number\n",
    "        conn = sqlite3.connect(\"students.db\")\n",
    "        cursor = conn.cursor()\n",
    "\n",
    "        # Save data into the database\n",
    "        cursor.execute(\"INSERT INTO students (name, age, course, gender, activity) VALUES (?, ?, ?, ?, ?)\",\n",
    "                       (name, int(age), course, gender, activity))\n",
    "        conn.commit()\n",
    "        conn.close()\n",
    "\n",
    "        messagebox.showinfo(\"Success\", \"Data saved successfully!\") # where success is title of msgbox and other is message\n",
    "\n",
    "        # Clear input fields\n",
    "        name_entry.delete(0, tk.END)              #0 is initial value and tk is end value (its deleting complete value from start to end\n",
    "        age_entry.delete(0, tk.END)\n",
    "\n",
    "        show_data()  # Refresh the Listbox\n",
    "    else:\n",
    "        messagebox.showerror(\"Error\", \"Please enter a valid Name and Age.\")\n",
    "\n",
    "# Function to Show Data\n",
    "def show_data():\n",
    "    listbox.delete(0, tk.END)  # Clear existing data from start to end\n",
    "    conn = sqlite3.connect(\"students.db\")\n",
    "    cursor = conn.cursor()\n",
    "    cursor.execute(\"SELECT name, age, course, gender, activity FROM students\")\n",
    "    for row in cursor.fetchall():\n",
    "        listbox.insert(tk.END, f\"{row[0]}, Age: {row[1]}, {row[2]}, {row[3]}, Extra: {'Yes' if row[4] else 'No'}\")\n",
    "    conn.close()\n"
   ]
  },
  {
   "cell_type": "code",
   "execution_count": null,
   "id": "daadbbc6-9d8d-4805-87dd-11944dcb7955",
   "metadata": {},
   "outputs": [],
   "source": []
  },
  {
   "cell_type": "code",
   "execution_count": null,
   "id": "93dc4729-e744-4de9-b8be-24034fd5628a",
   "metadata": {},
   "outputs": [],
   "source": []
  },
  {
   "cell_type": "code",
   "execution_count": null,
   "id": "8fdee66d-b186-4785-9994-fd393f5f4aa0",
   "metadata": {},
   "outputs": [],
   "source": []
  },
  {
   "cell_type": "code",
   "execution_count": null,
   "id": "545def53-eefe-447d-a064-6610b3eb70c8",
   "metadata": {},
   "outputs": [],
   "source": []
  },
  {
   "cell_type": "code",
   "execution_count": null,
   "id": "17495c8f-ad8a-461c-b759-8b07913eb536",
   "metadata": {},
   "outputs": [],
   "source": []
  },
  {
   "cell_type": "code",
   "execution_count": null,
   "id": "9be29b00-e4ef-43b6-9bcc-c055c69f29cc",
   "metadata": {},
   "outputs": [],
   "source": []
  }
 ],
 "metadata": {
  "kernelspec": {
   "display_name": "Python 3 (ipykernel)",
   "language": "python",
   "name": "python3"
  },
  "language_info": {
   "codemirror_mode": {
    "name": "ipython",
    "version": 3
   },
   "file_extension": ".py",
   "mimetype": "text/x-python",
   "name": "python",
   "nbconvert_exporter": "python",
   "pygments_lexer": "ipython3",
   "version": "3.12.3"
  }
 },
 "nbformat": 4,
 "nbformat_minor": 5
}
